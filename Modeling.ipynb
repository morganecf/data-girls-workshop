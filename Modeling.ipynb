{
 "cells": [
  {
   "cell_type": "code",
   "execution_count": 1,
   "metadata": {
    "collapsed": false
   },
   "outputs": [
    {
     "data": {
      "text/plain": [
       "' Notebook to demonstrate basic modeling with scikit-learn '"
      ]
     },
     "execution_count": 1,
     "metadata": {},
     "output_type": "execute_result"
    }
   ],
   "source": [
    "''' Notebook to demonstrate basic modeling with scikit-learn '''"
   ]
  },
  {
   "cell_type": "code",
   "execution_count": 9,
   "metadata": {
    "collapsed": true
   },
   "outputs": [],
   "source": [
    "import pandas as pd\n",
    "from stop_words import get_stop_words\n",
    "from sklearn.feature_extraction.text import CountVectorizer\n",
    "from sklearn.feature_extraction.text import TfidfTransformer"
   ]
  },
  {
   "cell_type": "code",
   "execution_count": 10,
   "metadata": {
    "collapsed": false
   },
   "outputs": [],
   "source": [
    "df = pd.read_csv('sample_tweets.csv', encoding='latin-1')"
   ]
  },
  {
   "cell_type": "code",
   "execution_count": 96,
   "metadata": {
    "collapsed": false
   },
   "outputs": [],
   "source": [
    "from sklearn.naive_bayes import GaussianNB\n",
    "\n",
    "subset = df.sample(n=5000)\n",
    "\n",
    "stop_words = get_stop_words('en')\n",
    "\n",
    "word_vectorizer = CountVectorizer(ngram_range=(1,3), stop_words=stop_words)\n",
    "tfidf_transformer = TfidfTransformer(use_idf=True)\n",
    "\n",
    "word_doc_matrix = word_vectorizer.fit_transform(subset.text)\n",
    "features = tfidf_transformer.fit_transform(word_doc_matrix)\n",
    "\n",
    "model = GaussianNB()\n",
    "\n",
    "# Train the model \n",
    "classifier = model.fit(features.toarray(), subset.sentiment)"
   ]
  },
  {
   "cell_type": "code",
   "execution_count": 97,
   "metadata": {
    "collapsed": true
   },
   "outputs": [],
   "source": [
    "def predict_sentiment(new_tweets):\n",
    "    counts = word_vectorizer.transform(new_tweets)\n",
    "    tfidfs = tfidf_transformer.transform(counts)\n",
    "    predictions = classifier.predict(tfidfs.toarray())\n",
    "    return predictions"
   ]
  },
  {
   "cell_type": "code",
   "execution_count": 98,
   "metadata": {
    "collapsed": false
   },
   "outputs": [
    {
     "data": {
      "text/plain": [
       "array([0, 0, 0])"
      ]
     },
     "execution_count": 98,
     "metadata": {},
     "output_type": "execute_result"
    }
   ],
   "source": [
    "predict_sentiment(['i hate life', 'i do not want to go to work', 'i love cupcakes'])"
   ]
  },
  {
   "cell_type": "code",
   "execution_count": 99,
   "metadata": {
    "collapsed": false
   },
   "outputs": [
    {
     "data": {
      "text/plain": [
       "array([0])"
      ]
     },
     "execution_count": 99,
     "metadata": {},
     "output_type": "execute_result"
    }
   ],
   "source": [
    "predict_sentiment(['yay i am so excited to eat cupcakes'])"
   ]
  },
  {
   "cell_type": "code",
   "execution_count": 100,
   "metadata": {
    "collapsed": false
   },
   "outputs": [
    {
     "data": {
      "text/html": [
       "<div>\n",
       "<table border=\"1\" class=\"dataframe\">\n",
       "  <thead>\n",
       "    <tr style=\"text-align: right;\">\n",
       "      <th></th>\n",
       "      <th>sentiment</th>\n",
       "      <th>text</th>\n",
       "    </tr>\n",
       "  </thead>\n",
       "  <tbody>\n",
       "    <tr>\n",
       "      <th>278</th>\n",
       "      <td>0</td>\n",
       "      <td>My son Vincas is sick, so I stay at home  Just...</td>\n",
       "    </tr>\n",
       "    <tr>\n",
       "      <th>3799</th>\n",
       "      <td>0</td>\n",
       "      <td>@TomFelton Late nights suckkk!  Gym always mak...</td>\n",
       "    </tr>\n",
       "    <tr>\n",
       "      <th>2175</th>\n",
       "      <td>0</td>\n",
       "      <td>@icedcoffee they end up back as read only ... ...</td>\n",
       "    </tr>\n",
       "    <tr>\n",
       "      <th>7349</th>\n",
       "      <td>4</td>\n",
       "      <td>@stacksnyc LMAO... WHATEVER!! You know what I ...</td>\n",
       "    </tr>\n",
       "    <tr>\n",
       "      <th>4096</th>\n",
       "      <td>0</td>\n",
       "      <td>Where's my mail?</td>\n",
       "    </tr>\n",
       "    <tr>\n",
       "      <th>5555</th>\n",
       "      <td>4</td>\n",
       "      <td>@seaofbeauty good morning!</td>\n",
       "    </tr>\n",
       "    <tr>\n",
       "      <th>9081</th>\n",
       "      <td>4</td>\n",
       "      <td>I think Donnie's hat got enough facetime.. tim...</td>\n",
       "    </tr>\n",
       "    <tr>\n",
       "      <th>5515</th>\n",
       "      <td>4</td>\n",
       "      <td>@JustMePammy Not green. Sorry.</td>\n",
       "    </tr>\n",
       "    <tr>\n",
       "      <th>9089</th>\n",
       "      <td>4</td>\n",
       "      <td>im fuckin GOOD!!!! MUHAHAHA!! best sleep of my...</td>\n",
       "    </tr>\n",
       "    <tr>\n",
       "      <th>6799</th>\n",
       "      <td>4</td>\n",
       "      <td>@rachbarnhart I have plenty of opinions that I...</td>\n",
       "    </tr>\n",
       "  </tbody>\n",
       "</table>\n",
       "</div>"
      ],
      "text/plain": [
       "      sentiment                                               text\n",
       "278           0  My son Vincas is sick, so I stay at home  Just...\n",
       "3799          0  @TomFelton Late nights suckkk!  Gym always mak...\n",
       "2175          0  @icedcoffee they end up back as read only ... ...\n",
       "7349          4  @stacksnyc LMAO... WHATEVER!! You know what I ...\n",
       "4096          0                                  Where's my mail? \n",
       "5555          4                        @seaofbeauty good morning! \n",
       "9081          4  I think Donnie's hat got enough facetime.. tim...\n",
       "5515          4                    @JustMePammy Not green. Sorry. \n",
       "9089          4  im fuckin GOOD!!!! MUHAHAHA!! best sleep of my...\n",
       "6799          4  @rachbarnhart I have plenty of opinions that I..."
      ]
     },
     "execution_count": 100,
     "metadata": {},
     "output_type": "execute_result"
    }
   ],
   "source": [
    "test_tweets = df.sample(n=500)\n",
    "test_tweets.head(10)"
   ]
  },
  {
   "cell_type": "code",
   "execution_count": 101,
   "metadata": {
    "collapsed": true
   },
   "outputs": [],
   "source": [
    "test_predictions = predict_sentiment(test_tweets.text)"
   ]
  },
  {
   "cell_type": "code",
   "execution_count": 102,
   "metadata": {
    "collapsed": false
   },
   "outputs": [
    {
     "data": {
      "text/plain": [
       "array([4, 0, 0, 0, 0, 4, 0, 4, 0, 0])"
      ]
     },
     "execution_count": 102,
     "metadata": {},
     "output_type": "execute_result"
    }
   ],
   "source": [
    "test_predictions[:10]"
   ]
  },
  {
   "cell_type": "code",
   "execution_count": 103,
   "metadata": {
    "collapsed": false
   },
   "outputs": [
    {
     "data": {
      "text/plain": [
       "0.80800000000000005"
      ]
     },
     "execution_count": 103,
     "metadata": {},
     "output_type": "execute_result"
    }
   ],
   "source": [
    "from sklearn.metrics import accuracy_score\n",
    "\n",
    "accuracy_score(test_tweets.sentiment, test_predictions)"
   ]
  },
  {
   "cell_type": "code",
   "execution_count": 104,
   "metadata": {
    "collapsed": true
   },
   "outputs": [],
   "source": [
    "from sklearn.metrics import confusion_matrix\n",
    "\n",
    "confusion_mat = confusion_matrix(test_tweets.sentiment, test_predictions)"
   ]
  },
  {
   "cell_type": "code",
   "execution_count": 105,
   "metadata": {
    "collapsed": false
   },
   "outputs": [
    {
     "data": {
      "text/plain": [
       "array([[220,  31],\n",
       "       [ 65, 184]])"
      ]
     },
     "execution_count": 105,
     "metadata": {},
     "output_type": "execute_result"
    }
   ],
   "source": [
    "confusion_mat"
   ]
  },
  {
   "cell_type": "code",
   "execution_count": 106,
   "metadata": {
    "collapsed": false
   },
   "outputs": [
    {
     "name": "stdout",
     "output_type": "stream",
     "text": [
      "True positives: 184\n",
      "True negatives: 220\n",
      "False positives: 31\n",
      "False negatives: 65\n"
     ]
    }
   ],
   "source": [
    "# True positives (they were happy, we predicted happy)\n",
    "TP = confusion_mat[1][1]\n",
    "\n",
    "# True negatives (they were sad, we predicted sad)\n",
    "TN = confusion_mat[0][0]\n",
    "\n",
    "# False positives (they were sad, we predicted happy)\n",
    "FP = confusion_mat[0][1]\n",
    "\n",
    "# False negatives (they were happy, we predicted sad)\n",
    "FN = confusion_mat[1][0]\n",
    "\n",
    "print('True positives:', TP)\n",
    "print('True negatives:', TN)\n",
    "print('False positives:', FP)\n",
    "print('False negatives:', FN)"
   ]
  },
  {
   "cell_type": "code",
   "execution_count": 107,
   "metadata": {
    "collapsed": false
   },
   "outputs": [
    {
     "data": {
      "text/plain": [
       "(0.73895582329317266, 0.12350597609561753)"
      ]
     },
     "execution_count": 107,
     "metadata": {},
     "output_type": "execute_result"
    }
   ],
   "source": [
    "# True positive rate = how often are we correct when they're happy?\n",
    "TP_rate = TP / float(TP + FN)\n",
    "\n",
    "# False positive rate = how often are we getting it wrong when they're sad?\n",
    "FP_rate = FP / float(TN + FP)\n",
    "\n",
    "TP_rate, FP_rate"
   ]
  },
  {
   "cell_type": "code",
   "execution_count": 108,
   "metadata": {
    "collapsed": false
   },
   "outputs": [],
   "source": [
    "from sklearn.metrics import roc_curve\n",
    "\n",
    "import matplotlib.pyplot as plt\n",
    "%matplotlib inline\n",
    "\n",
    "fp_rate, tp_rate, _ = roc_curve(test_tweets.sentiment == 4, test_predictions == 4)"
   ]
  },
  {
   "cell_type": "code",
   "execution_count": 109,
   "metadata": {
    "collapsed": false
   },
   "outputs": [
    {
     "data": {
      "text/plain": [
       "(array([ 0.        ,  0.12350598,  1.        ]),\n",
       " array([ 0.        ,  0.73895582,  1.        ]))"
      ]
     },
     "execution_count": 109,
     "metadata": {},
     "output_type": "execute_result"
    }
   ],
   "source": [
    "fp_rate, tp_rate"
   ]
  },
  {
   "cell_type": "code",
   "execution_count": 110,
   "metadata": {
    "collapsed": false
   },
   "outputs": [
    {
     "data": {
      "text/plain": [
       "<matplotlib.figure.Figure at 0x115b514e0>"
      ]
     },
     "metadata": {},
     "output_type": "display_data"
    }
   ],
   "source": [
    "plt.figure();"
   ]
  },
  {
   "cell_type": "code",
   "execution_count": 111,
   "metadata": {
    "collapsed": false
   },
   "outputs": [
    {
     "data": {
      "text/plain": [
       "[<matplotlib.lines.Line2D at 0x12033dda0>]"
      ]
     },
     "execution_count": 111,
     "metadata": {},
     "output_type": "execute_result"
    },
    {
     "data": {
      "image/png": "[encoded data removed]",
      "text/plain": [
       "<matplotlib.figure.Figure at 0x12033d208>"
      ]
     },
     "metadata": {},
     "output_type": "display_data"
    }
   ],
   "source": [
    "plt.plot(fp_rate, tp_rate, color='orange')\n",
    "plt.plot([0, 1], [0, 1], color='navy', linestyle='--')"
   ]
  },
  {
   "cell_type": "code",
   "execution_count": 112,
   "metadata": {
    "collapsed": false
   },
   "outputs": [],
   "source": [
    "from sklearn.metrics import roc_auc_score"
   ]
  },
  {
   "cell_type": "code",
   "execution_count": 113,
   "metadata": {
    "collapsed": false
   },
   "outputs": [
    {
     "data": {
      "text/plain": [
       "0.80772492359877746"
      ]
     },
     "execution_count": 113,
     "metadata": {},
     "output_type": "execute_result"
    }
   ],
   "source": [
    "roc_auc_score(test_tweets.sentiment == 4, test_predictions == 4)"
   ]
  },
  {
   "cell_type": "code",
   "execution_count": 117,
   "metadata": {
    "collapsed": false
   },
   "outputs": [],
   "source": [
    "tweets = df.text\n",
    "target = df.sentiment"
   ]
  },
  {
   "cell_type": "code",
   "execution_count": 123,
   "metadata": {
    "collapsed": false
   },
   "outputs": [],
   "source": [
    "from sklearn.model_selection import KFold\n",
    "\n",
    "# List of indices needed to split the actual data\n",
    "folds = KFold(n_splits=5).split(tweets)\n",
    "\n",
    "# For each fold, we're going to split our data\n",
    "# into a training set (on which we train the model),\n",
    "# and a test set (on which we test the model by\n",
    "# making predictions)\n",
    "def split_data(train_indices, test_indices):\n",
    "    train_tweets = tweets[train_indices]\n",
    "    train_target = target[train_indices]\n",
    "    test_tweets = tweets[test_indices]\n",
    "    test_target = target[test_indices]\n",
    "    return train_tweets, train_target, test_tweets, test_target\n",
    "\n",
    "folds = list(folds)\n",
    "train_indices, test_indices = folds[0]\n",
    "train_tweets, train_target, test_tweets, test_target = split_data(train_indices, test_indices)"
   ]
  },
  {
   "cell_type": "code",
   "execution_count": 125,
   "metadata": {
    "collapsed": false
   },
   "outputs": [
    {
     "data": {
      "text/plain": [
       "(2000    Morning twitterati...... Large coffee and a ba...\n",
       " 2001    hitting the gym! afterwards looking forward to...\n",
       " 2002                      doesnt  want to go to work lol \n",
       " 2003    @SherriGarrity Sorry I missed responding yeste...\n",
       " 2004                 i wanna come with them to bohol!!!! \n",
       " Name: text, dtype: object, 2000    0\n",
       " 2001    0\n",
       " 2002    0\n",
       " 2003    0\n",
       " 2004    0\n",
       " Name: sentiment, dtype: int64)"
      ]
     },
     "execution_count": 125,
     "metadata": {},
     "output_type": "execute_result"
    }
   ],
   "source": [
    "train_tweets.head(), train_target.head()"
   ]
  },
  {
   "cell_type": "code",
   "execution_count": 142,
   "metadata": {
    "collapsed": false
   },
   "outputs": [],
   "source": [
    "def predict_sentiment(classifier, word_vectorizer, tfidf_transformer, new_tweets):\n",
    "    counts = word_vectorizer.transform(new_tweets)\n",
    "    tfidfs = tfidf_transformer.transform(counts)\n",
    "    predictions = classifier.predict(tfidfs.toarray())\n",
    "    return predictions\n",
    "\n",
    "def train_and_test(model,\n",
    "                   train_tweets, train_target, test_tweets, test_target):\n",
    "    # Learn features from our training data\n",
    "    word_vectorizer = CountVectorizer(ngram_range=(2,2),\n",
    "                                      max_features=10000,\n",
    "                                      stop_words=stop_words)\n",
    "    tfidf_transformer = TfidfTransformer(use_idf=True)\n",
    "    word_doc_matrix = word_vectorizer.fit_transform(train_tweets)\n",
    "    features = tfidf_transformer.fit_transform(word_doc_matrix)\n",
    "    \n",
    "    # Train model and build classifier\n",
    "    classifier = model().fit(features.toarray(), train_target)\n",
    "    \n",
    "    # Make predictions\n",
    "    predictions = predict_sentiment(classifier,\n",
    "                                    word_vectorizer,\n",
    "                                    tfidf_transformer,\n",
    "                                    test_tweets)\n",
    "    \n",
    "    # Return score information\n",
    "    scores = {\n",
    "        'accuracy': accuracy_score(predictions, test_target),\n",
    "        'auc': roc_auc_score(predictions == 4, test_target == 4)\n",
    "    }\n",
    "    return scores, predictions"
   ]
  },
  {
   "cell_type": "code",
   "execution_count": 143,
   "metadata": {
    "collapsed": false
   },
   "outputs": [],
   "source": [
    "train_indices, test_indices = folds[0]\n",
    "train_tweets, train_target, test_tweets, test_target = split_data(train_indices,\n",
    "                                                                  test_indices)"
   ]
  },
  {
   "cell_type": "code",
   "execution_count": 144,
   "metadata": {
    "collapsed": false
   },
   "outputs": [],
   "source": [
    "scores, predictions = train_and_test(GaussianNB, \n",
    "                                     train_tweets, \n",
    "                                     train_target, \n",
    "                                     test_tweets, \n",
    "                                     test_target)"
   ]
  },
  {
   "cell_type": "code",
   "execution_count": 145,
   "metadata": {
    "collapsed": false
   },
   "outputs": [
    {
     "data": {
      "text/plain": [
       "{'accuracy': 0.89849999999999997, 'auc': 0.5}"
      ]
     },
     "execution_count": 145,
     "metadata": {},
     "output_type": "execute_result"
    }
   ],
   "source": [
    "scores"
   ]
  },
  {
   "cell_type": "code",
   "execution_count": null,
   "metadata": {
    "collapsed": true
   },
   "outputs": [],
   "source": []
  }
 ],
 "metadata": {
  "anaconda-cloud": {},
  "kernelspec": {
   "display_name": "Python 3",
   "language": "python",
   "name": "python3"
  },
  "language_info": {
   "codemirror_mode": {
    "name": "ipython",
    "version": 3
   },
   "file_extension": ".py",
   "mimetype": "text/x-python",
   "name": "python",
   "nbconvert_exporter": "python",
   "pygments_lexer": "ipython3",
   "version": "3.5.2"
  }
 },
 "nbformat": 4,
 "nbformat_minor": 1
}
